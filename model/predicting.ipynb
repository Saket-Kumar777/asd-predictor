{
 "cells": [
  {
   "cell_type": "code",
   "execution_count": 30,
   "id": "f49989c5-e6d0-4751-9119-c32274bd9703",
   "metadata": {},
   "outputs": [],
   "source": [
    "import numpy as np\n",
    "import pandas as pd\n",
    "import pickle\n"
   ]
  },
  {
   "cell_type": "code",
   "execution_count": 31,
   "id": "817702ec-9d9e-45d3-b524-5af72de1fef4",
   "metadata": {},
   "outputs": [],
   "source": [
    "import os\n",
    "os.chdir(\"C:/Users/saket/Desktop/asd_predictor\")  # Change to your actual path\n"
   ]
  },
  {
   "cell_type": "code",
   "execution_count": 35,
   "id": "b8cd7d3e-a096-475c-abbb-d466d3f01fc9",
   "metadata": {},
   "outputs": [
    {
     "name": "stdout",
     "output_type": "stream",
     "text": [
      "ASD Prediction: Likely NOT autistic\n"
     ]
    }
   ],
   "source": [
    "# Step 1: Load Encoders, Model, and Feature Column Order\n",
    "with open('encoders.pkl', 'rb') as f:\n",
    "    encoders = pickle.load(f)\n",
    "\n",
    "with open('best_model.pkl', 'rb') as f:\n",
    "    model = pickle.load(f)\n",
    "\n",
    "with open('feature_columns.pkl', 'rb') as f:\n",
    "    feature_columns = pickle.load(f)\n",
    "\n",
    "# Step 2: Input your data (example)\n",
    "input_data = {\n",
    "    'A1_Score': 'yes',\n",
    "    'A2_Score': 'no',\n",
    "    'A3_Score': 'yes',\n",
    "    'A4_Score': 'yes',\n",
    "    'A5_Score': 'no',\n",
    "    'A6_Score': 'no',\n",
    "    'A7_Score': 'yes',\n",
    "    'A8_Score': 'no',\n",
    "    'A9_Score': 'yes',\n",
    "    'A10_Score': 'yes',\n",
    "    'age': 27,\n",
    "    'gender': 'f',\n",
    "    'ethnicity': 'White-European',\n",
    "    'jaundice': 'no',\n",
    "    'autism': 'no',\n",
    "    'contry_of_res': 'United States',\n",
    "    'used_app_before': 'yes',\n",
    "    'result': 14,\n",
    "    'relation': 'Others'\n",
    "}\n",
    "\n",
    "def preprocess_input(data, encoders, feature_columns):\n",
    "    df = pd.DataFrame([data])\n",
    "\n",
    "    for col in df.columns:\n",
    "        if col in encoders:\n",
    "            try:\n",
    "                df[col] = encoders[col].transform(df[col])\n",
    "            except ValueError:\n",
    "                # Handle unseen category by assigning most frequent class\n",
    "                df[col] = encoders[col].transform([encoders[col].classes_[0]])\n",
    "        else:\n",
    "            # Try to convert to numeric if not already\n",
    "            df[col] = pd.to_numeric(df[col], errors='coerce')\n",
    "\n",
    "    # Match the feature column order used during training\n",
    "    df = df.reindex(columns=feature_columns)\n",
    "\n",
    "    # Fill any missing values (caused by coercion or missing columns)\n",
    "    df = df.fillna(0)\n",
    "\n",
    "    return df\n",
    "\n",
    "\n",
    "processed_input = preprocess_input(input_data, encoders, feature_columns)\n",
    "prediction = model.predict(processed_input)\n",
    "print(\"ASD Prediction: Likely NOT autistic\" if prediction[0] == 0 else \"ASD Prediction: Likely autistic\")\n"
   ]
  },
  {
   "cell_type": "code",
   "execution_count": null,
   "id": "669e397a-265d-4eae-b9c7-d88acdb9fd5e",
   "metadata": {},
   "outputs": [],
   "source": []
  }
 ],
 "metadata": {
  "kernelspec": {
   "display_name": "Python 3 (ipykernel)",
   "language": "python",
   "name": "python3"
  },
  "language_info": {
   "codemirror_mode": {
    "name": "ipython",
    "version": 3
   },
   "file_extension": ".py",
   "mimetype": "text/x-python",
   "name": "python",
   "nbconvert_exporter": "python",
   "pygments_lexer": "ipython3",
   "version": "3.12.4"
  }
 },
 "nbformat": 4,
 "nbformat_minor": 5
}
